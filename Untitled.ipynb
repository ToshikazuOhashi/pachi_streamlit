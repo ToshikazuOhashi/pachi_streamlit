{
 "cells": [
  {
   "cell_type": "code",
   "execution_count": 2,
   "id": "bbbbc26a",
   "metadata": {},
   "outputs": [
    {
     "name": "stderr",
     "output_type": "stream",
     "text": [
      "ERROR: Ignored the following versions that require a different python version: 0.55.2 Requires-Python <3.5; 1.12.1 Requires-Python >=3.7, !=3.9.7; 1.12.1rc1 Requires-Python >=3.7, !=3.9.7; 1.12.2 Requires-Python >=3.7, !=3.9.7; 1.12.2rc1 Requires-Python >=3.7, !=3.9.7; 1.12.2rc2 Requires-Python >=3.7, !=3.9.7; 1.13.0 Requires-Python >=3.7, !=3.9.7; 1.13.0rc1 Requires-Python >=3.7, !=3.9.7; 1.13.0rc2 Requires-Python >=3.7, !=3.9.7; 1.14.0 Requires-Python >=3.7, !=3.9.7; 1.14.0rc1 Requires-Python >=3.7, !=3.9.7; 1.14.1 Requires-Python >=3.7, !=3.9.7; 1.14.1rc1 Requires-Python >=3.7, !=3.9.7; 1.15.0 Requires-Python >=3.7, !=3.9.7; 1.15.1 Requires-Python >=3.7, !=3.9.7; 1.15.2 Requires-Python >=3.7, !=3.9.7; 1.15.2rc1 Requires-Python >=3.7, !=3.9.7; 1.16.0 Requires-Python >=3.7, !=3.9.7; 1.17.0 Requires-Python >=3.7, !=3.9.7; 1.18.0 Requires-Python >=3.7, !=3.9.7; 1.18.1 Requires-Python >=3.7, !=3.9.7; 1.18.1rc1 Requires-Python >=3.7, !=3.9.7; 1.19.0 Requires-Python >=3.7, !=3.9.7; 1.20.0 Requires-Python >=3.7, !=3.9.7; 1.21.0 Requires-Python >=3.7, !=3.9.7; 1.22.0 Requires-Python >=3.7, !=3.9.7; 1.23.0 Requires-Python >=3.7, !=3.9.7; 1.23.1 Requires-Python >=3.7, !=3.9.7; 1.24.0 Requires-Python >=3.8, !=3.9.7; 1.24.1 Requires-Python >=3.8, !=3.9.7; 1.25.0 Requires-Python >=3.8, !=3.9.7\n",
      "ERROR: Could not find a version that satisfies the requirement streamlit>=1.22.0 (from versions: 0.1, 0.2, 0.3, 0.4, 0.5, 0.6, 0.7, 0.8, 0.8.2, 0.9.0, 0.11.0, 0.12.2, 0.12.3, 0.12.4, 0.13.0, 0.13.1, 0.13.3, 0.13.5, 0.14.2, 0.15.0, 0.15.1, 0.15.2, 0.15.3, 0.15.4, 0.15.5, 0.15.6, 0.16.0, 0.16.1, 0.16.2, 0.16.3, 0.17.0, 0.17.1, 0.17.2, 0.18.0, 0.18.1, 0.19.0, 0.19.1, 0.20.0, 0.21.0, 0.22.0, 0.22.1, 0.22.2, 0.23.0, 0.24.0, 0.24.1, 0.24.2, 0.24.3, 0.25.0, 0.26.0, 0.26.1, 0.27.0, 0.28.0, 0.29.0, 0.30.0, 0.31.0, 0.32.0, 0.33.0, 0.34.0, 0.35.0, 0.36.0, 0.37.0, 0.40.0, 0.40.1, 0.41.0, 0.42.0, 0.43.0, 0.43.1, 0.43.2, 0.44.0, 0.45.0, 0.46.0, 0.47.0, 0.47.1, 0.47.2, 0.47.3, 0.47.4, 0.48.0, 0.48.1, 0.49.0, 0.50.0, 0.50.1, 0.50.2, 0.51.0, 0.52.0, 0.52.1, 0.52.2, 0.53.0, 0.54.0, 0.55.0, 0.56.0, 0.57.0, 0.57.1, 0.57.2, 0.57.3, 0.58.0, 0.59.0, 0.60.0, 0.61.0, 0.62.0, 0.62.1, 0.63.0, 0.63.1, 0.64.0, 0.65.0, 0.65.1, 0.65.2, 0.66.0, 0.67.0, 0.67.1, 0.68.0, 0.68.1, 0.69.0, 0.69.1, 0.69.2, 0.70.0, 0.71.0, 0.72.0, 0.73.0, 0.73.1, 0.74.0, 0.74.1, 0.75.0, 0.76.0, 0.77.0, 0.78.0, 0.79.0, 0.80.0, 0.81.0, 0.81.1, 0.82.0, 0.83.0, 0.84.0, 0.84.1, 0.84.2, 0.85.0, 0.85.1, 0.86.0, 0.87.0, 0.88.0, 0.89.0, 1.0.0, 1.1.0, 1.2.0, 1.3.0, 1.3.1, 1.4.0, 1.5.0, 1.5.1, 1.6.0rc3, 1.6.0rc4, 1.6.0, 1.7.0, 1.8.0rc1, 1.8.0, 1.8.1rc1, 1.8.1, 1.9.0rc1, 1.9.0, 1.9.1rc1, 1.9.1rc2, 1.9.1, 1.9.2rc1, 1.9.2, 1.10.0rc1, 1.10.0rc2, 1.10.0, 1.11.0rc1, 1.11.0, 1.11.1rc1, 1.11.1, 1.12.0rc1, 1.12.0rc2, 1.12.0)\n",
      "ERROR: No matching distribution found for streamlit>=1.22.0\n"
     ]
    }
   ],
   "source": [
    "!pip install \"streamlit>=1.22.0\""
   ]
  },
  {
   "cell_type": "code",
   "execution_count": 5,
   "id": "7270cd0e",
   "metadata": {},
   "outputs": [
    {
     "name": "stdout",
     "output_type": "stream",
     "text": [
      "Python 3.9.7\n"
     ]
    }
   ],
   "source": [
    "!python --version\n"
   ]
  },
  {
   "cell_type": "code",
   "execution_count": 6,
   "id": "cff059ab",
   "metadata": {},
   "outputs": [
    {
     "name": "stdout",
     "output_type": "stream",
     "text": [
      "Streamlit, version 1.12.0\n"
     ]
    },
    {
     "name": "stderr",
     "output_type": "stream",
     "text": [
      "2023-08-13 16:29:46.530 INFO    numexpr.utils: NumExpr defaulting to 8 threads.\n"
     ]
    }
   ],
   "source": [
    "!streamlit --version"
   ]
  },
  {
   "cell_type": "code",
   "execution_count": 7,
   "id": "18b46180",
   "metadata": {},
   "outputs": [
    {
     "name": "stdout",
     "output_type": "stream",
     "text": [
      "Collecting streamlit==1.0.0\n",
      "  Downloading streamlit-1.0.0-py2.py3-none-any.whl (8.3 MB)\n",
      "     ---------------------------------------- 8.3/8.3 MB 10.0 MB/s eta 0:00:00\n",
      "Requirement already satisfied: validators in c:\\users\\tohsh\\anaconda3\\lib\\site-packages (from streamlit==1.0.0) (0.21.2)\n",
      "Requirement already satisfied: pillow>=6.2.0 in c:\\users\\tohsh\\anaconda3\\lib\\site-packages (from streamlit==1.0.0) (9.3.0)\n",
      "Collecting astor\n",
      "  Downloading astor-0.8.1-py2.py3-none-any.whl (27 kB)\n",
      "Requirement already satisfied: altair>=3.2.0 in c:\\users\\tohsh\\anaconda3\\lib\\site-packages (from streamlit==1.0.0) (4.2.2)\n",
      "Requirement already satisfied: pyarrow in c:\\users\\tohsh\\anaconda3\\lib\\site-packages (from streamlit==1.0.0) (12.0.1)\n",
      "Collecting base58\n",
      "  Downloading base58-2.1.1-py3-none-any.whl (5.6 kB)\n",
      "Requirement already satisfied: watchdog in c:\\users\\tohsh\\anaconda3\\lib\\site-packages (from streamlit==1.0.0) (2.1.3)\n",
      "Requirement already satisfied: blinker in c:\\users\\tohsh\\anaconda3\\lib\\site-packages (from streamlit==1.0.0) (1.6.2)\n",
      "Requirement already satisfied: tzlocal in c:\\users\\tohsh\\anaconda3\\lib\\site-packages (from streamlit==1.0.0) (5.0.1)\n",
      "Requirement already satisfied: requests in c:\\users\\tohsh\\anaconda3\\lib\\site-packages (from streamlit==1.0.0) (2.28.1)\n",
      "Requirement already satisfied: toml in c:\\users\\tohsh\\anaconda3\\lib\\site-packages (from streamlit==1.0.0) (0.10.2)\n",
      "Requirement already satisfied: gitpython!=3.1.19 in c:\\users\\tohsh\\anaconda3\\lib\\site-packages (from streamlit==1.0.0) (3.1.32)\n",
      "Requirement already satisfied: python-dateutil in c:\\users\\tohsh\\anaconda3\\lib\\site-packages (from streamlit==1.0.0) (2.8.2)\n",
      "Requirement already satisfied: tornado>=5.0 in c:\\users\\tohsh\\anaconda3\\lib\\site-packages (from streamlit==1.0.0) (6.2)\n",
      "Collecting click<8.0,>=7.0\n",
      "  Downloading click-7.1.2-py2.py3-none-any.whl (82 kB)\n",
      "     ---------------------------------------- 82.8/82.8 kB 4.8 MB/s eta 0:00:00\n",
      "Requirement already satisfied: packaging in c:\\users\\tohsh\\anaconda3\\lib\\site-packages (from streamlit==1.0.0) (22.0)\n",
      "Requirement already satisfied: pydeck>=0.1.dev5 in c:\\users\\tohsh\\anaconda3\\lib\\site-packages (from streamlit==1.0.0) (0.8.1b0)\n",
      "Requirement already satisfied: attrs in c:\\users\\tohsh\\anaconda3\\lib\\site-packages (from streamlit==1.0.0) (22.1.0)\n",
      "Requirement already satisfied: protobuf!=3.11,>=3.6.0 in c:\\users\\tohsh\\anaconda3\\lib\\site-packages (from streamlit==1.0.0) (3.20.3)\n",
      "Requirement already satisfied: cachetools>=4.0 in c:\\users\\tohsh\\anaconda3\\lib\\site-packages (from streamlit==1.0.0) (5.3.1)\n",
      "Requirement already satisfied: pandas>=0.21.0 in c:\\users\\tohsh\\anaconda3\\lib\\site-packages (from streamlit==1.0.0) (1.3.4)\n",
      "Requirement already satisfied: numpy in c:\\users\\tohsh\\anaconda3\\lib\\site-packages (from streamlit==1.0.0) (1.24.1)\n",
      "Requirement already satisfied: toolz in c:\\users\\tohsh\\anaconda3\\lib\\site-packages (from altair>=3.2.0->streamlit==1.0.0) (0.12.0)\n",
      "Requirement already satisfied: jsonschema>=3.0 in c:\\users\\tohsh\\anaconda3\\lib\\site-packages (from altair>=3.2.0->streamlit==1.0.0) (4.16.0)\n",
      "Requirement already satisfied: entrypoints in c:\\users\\tohsh\\anaconda3\\lib\\site-packages (from altair>=3.2.0->streamlit==1.0.0) (0.4)\n",
      "Requirement already satisfied: jinja2 in c:\\users\\tohsh\\anaconda3\\lib\\site-packages (from altair>=3.2.0->streamlit==1.0.0) (3.1.2)\n",
      "Requirement already satisfied: gitdb<5,>=4.0.1 in c:\\users\\tohsh\\anaconda3\\lib\\site-packages (from gitpython!=3.1.19->streamlit==1.0.0) (4.0.10)\n",
      "Requirement already satisfied: pytz>=2017.3 in c:\\users\\tohsh\\anaconda3\\lib\\site-packages (from pandas>=0.21.0->streamlit==1.0.0) (2022.7)\n",
      "Requirement already satisfied: six>=1.5 in c:\\users\\tohsh\\anaconda3\\lib\\site-packages (from python-dateutil->streamlit==1.0.0) (1.16.0)\n",
      "Requirement already satisfied: charset-normalizer<3,>=2 in c:\\users\\tohsh\\anaconda3\\lib\\site-packages (from requests->streamlit==1.0.0) (2.0.4)\n",
      "Requirement already satisfied: urllib3<1.27,>=1.21.1 in c:\\users\\tohsh\\anaconda3\\lib\\site-packages (from requests->streamlit==1.0.0) (1.26.13)\n",
      "Requirement already satisfied: idna<4,>=2.5 in c:\\users\\tohsh\\anaconda3\\lib\\site-packages (from requests->streamlit==1.0.0) (3.4)\n",
      "Requirement already satisfied: certifi>=2017.4.17 in c:\\users\\tohsh\\anaconda3\\lib\\site-packages (from requests->streamlit==1.0.0) (2022.12.7)\n",
      "Requirement already satisfied: tzdata in c:\\users\\tohsh\\anaconda3\\lib\\site-packages (from tzlocal->streamlit==1.0.0) (2023.3)\n",
      "Requirement already satisfied: smmap<6,>=3.0.1 in c:\\users\\tohsh\\anaconda3\\lib\\site-packages (from gitdb<5,>=4.0.1->gitpython!=3.1.19->streamlit==1.0.0) (5.0.0)\n",
      "Requirement already satisfied: MarkupSafe>=2.0 in c:\\users\\tohsh\\anaconda3\\lib\\site-packages (from jinja2->altair>=3.2.0->streamlit==1.0.0) (2.1.1)\n",
      "Requirement already satisfied: pyrsistent!=0.17.0,!=0.17.1,!=0.17.2,>=0.14.0 in c:\\users\\tohsh\\anaconda3\\lib\\site-packages (from jsonschema>=3.0->altair>=3.2.0->streamlit==1.0.0) (0.18.0)\n",
      "Installing collected packages: click, base58, astor, streamlit\n",
      "  Attempting uninstall: click\n",
      "    Found existing installation: click 8.0.4\n",
      "    Uninstalling click-8.0.4:\n",
      "      Successfully uninstalled click-8.0.4\n",
      "  Attempting uninstall: streamlit\n",
      "    Found existing installation: streamlit 1.12.0\n",
      "    Uninstalling streamlit-1.12.0:\n",
      "      Successfully uninstalled streamlit-1.12.0\n",
      "Successfully installed astor-0.8.1 base58-2.1.1 click-7.1.2 streamlit-1.0.0\n"
     ]
    },
    {
     "name": "stderr",
     "output_type": "stream",
     "text": [
      "ERROR: pip's dependency resolver does not currently take into account all the packages that are installed. This behaviour is the source of the following dependency conflicts.\n",
      "flask 2.2.2 requires click>=8.0, but you have click 7.1.2 which is incompatible.\n",
      "black 22.6.0 requires click>=8.0.0, but you have click 7.1.2 which is incompatible.\n"
     ]
    }
   ],
   "source": [
    "!pip install --upgrade streamlit==1.0.0"
   ]
  },
  {
   "cell_type": "code",
   "execution_count": null,
   "id": "f0da3a39",
   "metadata": {},
   "outputs": [],
   "source": []
  }
 ],
 "metadata": {
  "kernelspec": {
   "display_name": "Python 3 (ipykernel)",
   "language": "python",
   "name": "python3"
  },
  "language_info": {
   "codemirror_mode": {
    "name": "ipython",
    "version": 3
   },
   "file_extension": ".py",
   "mimetype": "text/x-python",
   "name": "python",
   "nbconvert_exporter": "python",
   "pygments_lexer": "ipython3",
   "version": "3.9.7"
  }
 },
 "nbformat": 4,
 "nbformat_minor": 5
}
